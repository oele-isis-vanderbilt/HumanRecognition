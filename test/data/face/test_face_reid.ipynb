{
 "cells": [
  {
   "cell_type": "code",
   "execution_count": 2,
   "metadata": {},
   "outputs": [
    {
     "name": "stderr",
     "output_type": "stream",
     "text": [
      "2024-04-30 23:15:42.440266: I tensorflow/core/util/port.cc:113] oneDNN custom operations are on. You may see slightly different numerical results due to floating-point round-off errors from different computation orders. To turn them off, set the environment variable `TF_ENABLE_ONEDNN_OPTS=0`.\n",
      "2024-04-30 23:15:42.440894: I external/local_tsl/tsl/cuda/cudart_stub.cc:32] Could not find cuda drivers on your machine, GPU will not be used.\n",
      "2024-04-30 23:15:42.445620: I external/local_tsl/tsl/cuda/cudart_stub.cc:32] Could not find cuda drivers on your machine, GPU will not be used.\n",
      "2024-04-30 23:15:42.626884: I tensorflow/core/platform/cpu_feature_guard.cc:210] This TensorFlow binary is optimized to use available CPU instructions in performance-critical operations.\n",
      "To enable the following instructions: AVX2 AVX512F AVX512_VNNI FMA, in other operations, rebuild TensorFlow with the appropriate compiler flags.\n",
      "2024-04-30 23:15:43.911958: W tensorflow/compiler/tf2tensorrt/utils/py_utils.cc:38] TF-TRT Warning: Could not find TensorRT\n"
     ]
    }
   ],
   "source": [
    "import pathlib\n",
    "\n",
    "from deepface import DeepFace\n",
    "import numpy as np\n",
    "import cv2\n",
    "\n",
    "CWD = pathlib.Path(\"\").absolute()\n",
    "DB_DIR = CWD / \"db\"\n",
    "TEST_DIR = CWD / \"test\""
   ]
  },
  {
   "cell_type": "code",
   "execution_count": 6,
   "metadata": {},
   "outputs": [],
   "source": [
    "def compute_embedding(image: np.ndarray):\n",
    "    return DeepFace.represent(image, model_name=\"Facenet\", enforce_detection=False, normalization='Facenet')"
   ]
  },
  {
   "cell_type": "code",
   "execution_count": 7,
   "metadata": {},
   "outputs": [],
   "source": [
    "# Load the labelled images\n",
    "teacher = cv2.imread(str(DB_DIR / \"teacher.png\"))\n",
    "# cv2.imshow(\"teacher\", teacher)\n",
    "# cv2.waitKey(0)\n",
    "# cv2.destroyAllWindows()\n",
    "\n",
    "# Create the embedding for the teacher\n",
    "# teacher_embedding = compute_embedding(teacher)"
   ]
  },
  {
   "cell_type": "code",
   "execution_count": 15,
   "metadata": {},
   "outputs": [
    {
     "name": "stdout",
     "output_type": "stream",
     "text": [
      "Similarity between teacher and test image s1.png: {'verified': False, 'distance': 0.7769948909639692, 'threshold': 0.4, 'model': 'Facenet', 'detector_backend': 'opencv', 'similarity_metric': 'cosine', 'facial_areas': {'img1': {'x': 0, 'y': 0, 'w': 53, 'h': 68, 'left_eye': None, 'right_eye': None}, 'img2': {'x': 2, 'y': 16, 'w': 58, 'h': 58, 'left_eye': None, 'right_eye': None}}, 'time': 0.62}\n",
      "Similarity between teacher and test image s3.png: {'verified': False, 'distance': 0.8755203255190487, 'threshold': 0.4, 'model': 'Facenet', 'detector_backend': 'opencv', 'similarity_metric': 'cosine', 'facial_areas': {'img1': {'x': 0, 'y': 0, 'w': 53, 'h': 68, 'left_eye': None, 'right_eye': None}, 'img2': {'x': 0, 'y': 0, 'w': 75, 'h': 88, 'left_eye': None, 'right_eye': None}}, 'time': 0.69}\n",
      "Similarity between teacher and test image s4.png: {'verified': False, 'distance': 0.9015555912288231, 'threshold': 0.4, 'model': 'Facenet', 'detector_backend': 'opencv', 'similarity_metric': 'cosine', 'facial_areas': {'img1': {'x': 0, 'y': 0, 'w': 53, 'h': 68, 'left_eye': None, 'right_eye': None}, 'img2': {'x': 0, 'y': 0, 'w': 45, 'h': 58, 'left_eye': None, 'right_eye': None}}, 'time': 0.63}\n",
      "Similarity between teacher and test image s2_2.png: {'verified': False, 'distance': 0.7288912049151044, 'threshold': 0.4, 'model': 'Facenet', 'detector_backend': 'opencv', 'similarity_metric': 'cosine', 'facial_areas': {'img1': {'x': 0, 'y': 0, 'w': 53, 'h': 68, 'left_eye': None, 'right_eye': None}, 'img2': {'x': 0, 'y': 0, 'w': 55, 'h': 79, 'left_eye': None, 'right_eye': None}}, 'time': 0.56}\n",
      "Similarity between teacher and test image teacher2.png: {'verified': True, 'distance': 0.162790312879456, 'threshold': 0.4, 'model': 'Facenet', 'detector_backend': 'opencv', 'similarity_metric': 'cosine', 'facial_areas': {'img1': {'x': 0, 'y': 0, 'w': 53, 'h': 68, 'left_eye': None, 'right_eye': None}, 'img2': {'x': 12, 'y': 14, 'w': 65, 'h': 65, 'left_eye': None, 'right_eye': None}}, 'time': 0.55}\n",
      "Similarity between teacher and test image s2.png: {'verified': False, 'distance': 0.8375927461496778, 'threshold': 0.4, 'model': 'Facenet', 'detector_backend': 'opencv', 'similarity_metric': 'cosine', 'facial_areas': {'img1': {'x': 0, 'y': 0, 'w': 53, 'h': 68, 'left_eye': None, 'right_eye': None}, 'img2': {'x': 0, 'y': 0, 'w': 59, 'h': 85, 'left_eye': None, 'right_eye': None}}, 'time': 0.54}\n",
      "Similarity between teacher and test image teacher.png: {'verified': True, 'distance': 0.3323075238792752, 'threshold': 0.4, 'model': 'Facenet', 'detector_backend': 'opencv', 'similarity_metric': 'cosine', 'facial_areas': {'img1': {'x': 0, 'y': 0, 'w': 53, 'h': 68, 'left_eye': None, 'right_eye': None}, 'img2': {'x': 0, 'y': 0, 'w': 59, 'h': 85, 'left_eye': None, 'right_eye': None}}, 'time': 0.54}\n"
     ]
    }
   ],
   "source": [
    "# Compute the embeddings for the test images\n",
    "# test_images = [cv2.imread(str(i)) for i in TEST_DIR.iterdir() if i.is_file()]\n",
    "test_images = [i for i in TEST_DIR.iterdir() if i.is_file()]\n",
    "\n",
    "for i, test_image in enumerate(test_images):\n",
    "\n",
    "    similarity = DeepFace.verify(str(DB_DIR / 'teacher.png'), test_image, model_name=\"Facenet\", distance_metric='cosine', enforce_detection=False, normalization='Facenet')\n",
    "    print(f\"Similarity between teacher and test image {test_image.name}: {similarity}\")"
   ]
  }
 ],
 "metadata": {
  "kernelspec": {
   "display_name": "ettk_dev",
   "language": "python",
   "name": "python3"
  },
  "language_info": {
   "codemirror_mode": {
    "name": "ipython",
    "version": 3
   },
   "file_extension": ".py",
   "mimetype": "text/x-python",
   "name": "python",
   "nbconvert_exporter": "python",
   "pygments_lexer": "ipython3",
   "version": "3.10.11"
  }
 },
 "nbformat": 4,
 "nbformat_minor": 2
}
